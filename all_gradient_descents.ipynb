{
 "cells": [
  {
   "cell_type": "code",
   "execution_count": 11,
   "id": "887bce93",
   "metadata": {},
   "outputs": [],
   "source": [
    "import matplotlib.pyplot as plt\n",
    "import numpy as np\n",
    "import pandas as pd"
   ]
  },
  {
   "cell_type": "code",
   "execution_count": 12,
   "id": "7b647175",
   "metadata": {},
   "outputs": [
    {
     "data": {
      "text/html": [
       "<div>\n",
       "<style scoped>\n",
       "    .dataframe tbody tr th:only-of-type {\n",
       "        vertical-align: middle;\n",
       "    }\n",
       "\n",
       "    .dataframe tbody tr th {\n",
       "        vertical-align: top;\n",
       "    }\n",
       "\n",
       "    .dataframe thead th {\n",
       "        text-align: right;\n",
       "    }\n",
       "</style>\n",
       "<table border=\"1\" class=\"dataframe\">\n",
       "  <thead>\n",
       "    <tr style=\"text-align: right;\">\n",
       "      <th></th>\n",
       "      <th>height</th>\n",
       "      <th>weight</th>\n",
       "    </tr>\n",
       "  </thead>\n",
       "  <tbody>\n",
       "    <tr>\n",
       "      <th>0</th>\n",
       "      <td>167</td>\n",
       "      <td>83.5</td>\n",
       "    </tr>\n",
       "    <tr>\n",
       "      <th>1</th>\n",
       "      <td>145</td>\n",
       "      <td>72.5</td>\n",
       "    </tr>\n",
       "    <tr>\n",
       "      <th>2</th>\n",
       "      <td>170</td>\n",
       "      <td>85.0</td>\n",
       "    </tr>\n",
       "    <tr>\n",
       "      <th>3</th>\n",
       "      <td>180</td>\n",
       "      <td>90.0</td>\n",
       "    </tr>\n",
       "    <tr>\n",
       "      <th>4</th>\n",
       "      <td>189</td>\n",
       "      <td>94.5</td>\n",
       "    </tr>\n",
       "    <tr>\n",
       "      <th>5</th>\n",
       "      <td>155</td>\n",
       "      <td>77.5</td>\n",
       "    </tr>\n",
       "    <tr>\n",
       "      <th>6</th>\n",
       "      <td>163</td>\n",
       "      <td>81.5</td>\n",
       "    </tr>\n",
       "    <tr>\n",
       "      <th>7</th>\n",
       "      <td>178</td>\n",
       "      <td>89.0</td>\n",
       "    </tr>\n",
       "    <tr>\n",
       "      <th>8</th>\n",
       "      <td>173</td>\n",
       "      <td>86.5</td>\n",
       "    </tr>\n",
       "    <tr>\n",
       "      <th>9</th>\n",
       "      <td>176</td>\n",
       "      <td>88.0</td>\n",
       "    </tr>\n",
       "  </tbody>\n",
       "</table>\n",
       "</div>"
      ],
      "text/plain": [
       "   height  weight\n",
       "0     167    83.5\n",
       "1     145    72.5\n",
       "2     170    85.0\n",
       "3     180    90.0\n",
       "4     189    94.5\n",
       "5     155    77.5\n",
       "6     163    81.5\n",
       "7     178    89.0\n",
       "8     173    86.5\n",
       "9     176    88.0"
      ]
     },
     "execution_count": 12,
     "metadata": {},
     "output_type": "execute_result"
    }
   ],
   "source": [
    "height=[167,145,170,180,189,155,163,178,173,176]\n",
    "weight=[83.5,72.5,85,90,94.5,77.5,81.5,89,86.5,88]\n",
    "data=pd.DataFrame(list(zip(height,weight)),columns=[\"height\",\"weight\"])\n",
    "data"
   ]
  },
  {
   "cell_type": "code",
   "execution_count": 13,
   "id": "7827780d",
   "metadata": {},
   "outputs": [],
   "source": [
    "x=data[\"height\"]\n",
    "y=data[\"weight\"]"
   ]
  },
  {
   "cell_type": "code",
   "execution_count": 14,
   "id": "6c352178",
   "metadata": {},
   "outputs": [],
   "source": [
    "def single_point_cost(x,y,w):   \n",
    "    y_pred= w * x\n",
    "    cost=( y_pred - y) **2  #linear regression\n",
    "    return cost\n"
   ]
  },
  {
   "cell_type": "code",
   "execution_count": 15,
   "id": "cbd5d42c",
   "metadata": {},
   "outputs": [],
   "source": [
    "def grad(x,y,w,):\n",
    "    grad_w=2 * x * ((w * x) - y ) # derevative with respect to x\n",
    "    return grad_w"
   ]
  },
  {
   "cell_type": "code",
   "execution_count": 21,
   "id": "42e9174b",
   "metadata": {},
   "outputs": [],
   "source": [
    "#  regular gradient descent\n",
    "w=0 # here we have  only one parameter\n",
    "gamma=0.000001 #learning rate\n",
    "all_costs=[]\n",
    "for k in range(60):\n",
    "    cost=0\n",
    "    for i in range(len(x)):\n",
    "        a=single_point_cost(x[i],y[i],w)\n",
    "        cost+=a\n",
    "    \n",
    "    cost1=cost/len(x)  #average cost\n",
    "    all_costs.append(cost1)\n",
    "    grad_w=0\n",
    "    for j in range(len(x)):\n",
    "        b=grad(x[j],y[j],w)\n",
    "        grad_w+=b\n",
    "    grad_w1=grad_w/len(x)  #avearge grad\n",
    "    w = w -  (gamma * grad_w1)  # in batch gradient descent update happens only one time"
   ]
  },
  {
   "cell_type": "code",
   "execution_count": 22,
   "id": "094e9ec3",
   "metadata": {},
   "outputs": [
    {
     "data": {
      "text/plain": [
       "0.48597498598079936"
      ]
     },
     "execution_count": 22,
     "metadata": {},
     "output_type": "execute_result"
    }
   ],
   "source": [
    "w"
   ]
  },
  {
   "cell_type": "code",
   "execution_count": 23,
   "id": "81330234",
   "metadata": {},
   "outputs": [
    {
     "data": {
      "text/plain": [
       "[<matplotlib.lines.Line2D at 0x7ff4ff420d30>]"
      ]
     },
     "execution_count": 23,
     "metadata": {},
     "output_type": "execute_result"
    },
    {
     "data": {
      "image/png": "[encoded data removed]",
      "text/plain": [
       "<Figure size 432x288 with 1 Axes>"
      ]
     },
     "metadata": {
      "needs_background": "light"
     },
     "output_type": "display_data"
    }
   ],
   "source": [
    "epochs=np.arange(60)\n",
    "plt.plot(epochs,all_costs)"
   ]
  },
  {
   "cell_type": "code",
   "execution_count": 24,
   "id": "1e6b4e97",
   "metadata": {},
   "outputs": [],
   "source": [
    "# stochastic gradient descent\n",
    "all_costs23=[]\n",
    "w=0\n",
    "gamma=0.000001\n",
    "for k in range(60):\n",
    "    for i in range(len(x)):\n",
    "        cost21=single_point_cost(x[i],y[i],w)\n",
    "        grad_w21=grad(x[i],y[i],w)\n",
    "        w= w- (gamma * grad_w21) # in sgd update takes place after every point\n",
    "    all_costs23.append(cost21)"
   ]
  },
  {
   "cell_type": "code",
   "execution_count": 25,
   "id": "45bab49e",
   "metadata": {},
   "outputs": [
    {
     "data": {
      "text/plain": [
       "0.4999999999999996"
      ]
     },
     "execution_count": 25,
     "metadata": {},
     "output_type": "execute_result"
    }
   ],
   "source": [
    "w"
   ]
  },
  {
   "cell_type": "code",
   "execution_count": 26,
   "id": "456324a1",
   "metadata": {},
   "outputs": [
    {
     "data": {
      "text/plain": [
       "[<matplotlib.lines.Line2D at 0x7ff4ff381280>]"
      ]
     },
     "execution_count": 26,
     "metadata": {},
     "output_type": "execute_result"
    },
    {
     "data": {
      "image/png": "[encoded data removed]",
      "text/plain": [
       "<Figure size 432x288 with 1 Axes>"
      ]
     },
     "metadata": {
      "needs_background": "light"
     },
     "output_type": "display_data"
    }
   ],
   "source": [
    "s1=np.arange(60)\n",
    "plt.plot(epochs,all_costs23)"
   ]
  },
  {
   "cell_type": "code",
   "execution_count": 27,
   "id": "70282ddb",
   "metadata": {},
   "outputs": [],
   "source": [
    "# mini batch gradient descent\n",
    "w=0\n",
    "gamma=0.000001\n",
    "batch_size= 5\n",
    "all_costs41=[]\n",
    "for k in range(60):\n",
    "    for j in range(int(len(x)/batch_size)):\n",
    "        cost4=0\n",
    "        for i in range(batch_size):\n",
    "            z1=single_point_cost(x[i],y[i],w)\n",
    "            cost4+=z1\n",
    "        if j==1:\n",
    "            all_costs41.append(cost4/batch_size) #avearge cost of that batch\n",
    "        grad_w41=0\n",
    "        for n in range(batch_size):\n",
    "            f1=grad(x[i],y[i],w)\n",
    "            grad_w41+=f1\n",
    "    \n",
    "        grad_w42=grad_w41/batch_size  #average grad of that function\n",
    "\n",
    "        w= w- (gamma * grad_w42)  # update takes place after every batch"
   ]
  },
  {
   "cell_type": "code",
   "execution_count": 28,
   "id": "9a084f52",
   "metadata": {},
   "outputs": [
    {
     "data": {
      "text/plain": [
       "[<matplotlib.lines.Line2D at 0x7ff4ff354c10>]"
      ]
     },
     "execution_count": 28,
     "metadata": {},
     "output_type": "execute_result"
    },
    {
     "data": {
      "image/png": "[encoded data removed]",
      "text/plain": [
       "<Figure size 432x288 with 1 Axes>"
      ]
     },
     "metadata": {
      "needs_background": "light"
     },
     "output_type": "display_data"
    }
   ],
   "source": [
    "plt.plot(epochs,all_costs41)"
   ]
  },
  {
   "cell_type": "code",
   "execution_count": 29,
   "id": "e76f9f6f",
   "metadata": {},
   "outputs": [
    {
     "data": {
      "image/png": "[encoded data removed]",
      "text/plain": [
       "<Figure size 864x576 with 1 Axes>"
      ]
     },
     "metadata": {
      "needs_background": "light"
     },
     "output_type": "display_data"
    }
   ],
   "source": [
    "plt.figure(figsize=(12,8))\n",
    "plt.plot(epochs,all_costs,c='r',label=\"regular gd\")\n",
    "plt.plot(epochs,all_costs23,c='b',label=\"sgd\")\n",
    "plt.plot(epochs,all_costs41,c='g',label=\"mini batch gd\")\n",
    "plt.xlabel(\"epochs\")\n",
    "plt.ylabel(\"final_loss\")\n",
    "plt.legend()\n",
    "plt.show()"
   ]
  },
  {
   "cell_type": "code",
   "execution_count": null,
   "id": "6c3fc0ff",
   "metadata": {},
   "outputs": [],
   "source": []
  }
 ],
 "metadata": {
  "interpreter": {
   "hash": "e55666fbbf217aa3df372b978577f47b6009e2f78e2ec76a584f49cd54a1e62c"
  },
  "kernelspec": {
   "display_name": "Python 2.7.18 64-bit",
   "language": "python",
   "name": "python3"
  },
  "language_info": {
   "codemirror_mode": {
    "name": "ipython",
    "version": 3
   },
   "file_extension": ".py",
   "mimetype": "text/x-python",
   "name": "python",
   "nbconvert_exporter": "python",
   "pygments_lexer": "ipython3",
   "version": "3.8.10"
  }
 },
 "nbformat": 4,
 "nbformat_minor": 5
}
